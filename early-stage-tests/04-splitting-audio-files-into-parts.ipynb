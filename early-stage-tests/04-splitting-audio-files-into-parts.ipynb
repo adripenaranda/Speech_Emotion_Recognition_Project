{
 "cells": [
  {
   "cell_type": "markdown",
   "metadata": {},
   "source": [
    "https://stackoverflow.com/questions/60105626/split-audio-on-timestamps-libros"
   ]
  },
  {
   "cell_type": "code",
   "execution_count": 1,
   "metadata": {},
   "outputs": [],
   "source": [
    "#pip install librosa soundfile ffmpeg pygobject"
   ]
  },
  {
   "cell_type": "code",
   "execution_count": 2,
   "metadata": {},
   "outputs": [],
   "source": [
    "import os\n",
    "import shutil\n",
    "\n",
    "def remove_contents(folder_path):\n",
    "    for filename in os.listdir(folder_path):\n",
    "        file_path = os.path.join(folder_path, filename)\n",
    "        try:\n",
    "            if os.path.isfile(file_path) or os.path.islink(file_path):\n",
    "                os.remove(file_path)\n",
    "            elif os.path.isdir(file_path):\n",
    "                shutil.rmtree(file_path)\n",
    "        except Exception as e:\n",
    "            print(f'Failed to delete {file_path}. Reason: {e}')"
   ]
  },
  {
   "cell_type": "code",
   "execution_count": 3,
   "metadata": {},
   "outputs": [],
   "source": [
    "import librosa\n",
    "import soundfile as sf\n",
    "\n",
    "source_audio_file = \".\\\\04a-source-audios\\\\SampleAudio01.wav\"\n",
    "destin_audio_path = \".\\\\04b-splitted-audios\\\\\"\n",
    "chunk_duration = 10 # seconds\n",
    "\n",
    "remove_contents(destin_audio_path)\n",
    "\n",
    "y, sr = librosa.load(source_audio_file, sr=None) \n",
    "\n",
    "chunk_samples = int(chunk_duration * sr)\n",
    "chunks = [y[i:i + chunk_samples] for i in range(0, len(y), chunk_samples)]\n",
    "\n",
    "for i, chunk in enumerate(chunks):\n",
    "    output_file = f\"{destin_audio_path}\\\\{os.path.basename(source_audio_file)}_Chunk{str(i).zfill(3)}.wav\"\n",
    "    sf.write(output_file, chunk, sr)"
   ]
  },
  {
   "cell_type": "code",
   "execution_count": null,
   "metadata": {},
   "outputs": [],
   "source": []
  }
 ],
 "metadata": {
  "kernelspec": {
   "display_name": "Python 3",
   "language": "python",
   "name": "python3"
  },
  "language_info": {
   "codemirror_mode": {
    "name": "ipython",
    "version": 3
   },
   "file_extension": ".py",
   "mimetype": "text/x-python",
   "name": "python",
   "nbconvert_exporter": "python",
   "pygments_lexer": "ipython3",
   "version": "3.11.6"
  }
 },
 "nbformat": 4,
 "nbformat_minor": 2
}
