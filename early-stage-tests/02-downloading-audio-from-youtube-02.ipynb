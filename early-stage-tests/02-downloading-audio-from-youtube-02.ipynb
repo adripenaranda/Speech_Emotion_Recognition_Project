{
 "cells": [
  {
   "cell_type": "markdown",
   "metadata": {},
   "source": [
    "https://github.com/JuanBindez/pytubefix"
   ]
  },
  {
   "cell_type": "code",
   "execution_count": 35,
   "metadata": {},
   "outputs": [],
   "source": [
    "#pip install pytubefix python-vlc"
   ]
  },
  {
   "cell_type": "code",
   "execution_count": 36,
   "metadata": {},
   "outputs": [],
   "source": [
    "import os\n",
    "import shutil\n",
    "from datetime import datetime\n",
    "\n",
    "def remove_contents(folder_path):\n",
    "    for filename in os.listdir(folder_path):\n",
    "        file_path = os.path.join(folder_path, filename)\n",
    "        try:\n",
    "            if os.path.isfile(file_path) or os.path.islink(file_path):\n",
    "                os.remove(file_path)\n",
    "            elif os.path.isdir(file_path):\n",
    "                shutil.rmtree(file_path)\n",
    "        except Exception as e:\n",
    "            print(f'Failed to delete {file_path}. Reason: {e}')\n",
    "\n",
    "def split_path(file_path):\n",
    "    # Split the directory and filename\n",
    "    directory, filename = os.path.split(file_path)\n",
    "    # Split the filename and extension\n",
    "    filename, extension = os.path.splitext(filename)\n",
    "    return directory, filename, extension\n",
    "\n",
    "def generate_provisional_name(prefix):\n",
    "    current_datetime = datetime.now().strftime(\"%Y%m%d_%H%M%S\")\n",
    "    provisional_name = f\"{prefix}_{current_datetime}\"\n",
    "    return provisional_name"
   ]
  },
  {
   "cell_type": "code",
   "execution_count": 37,
   "metadata": {},
   "outputs": [
    {
     "name": "stdout",
     "output_type": "stream",
     "text": [
      "Youtube: Sample Order Taking  Customer Support Philippines\n",
      "Out Filename: c:\\Users\\haldo\\Documents\\Dropbox\\2023 to 2025 - Lambton College\\T3. TERM 03, MAY-AGO 2024\\01, Tue01, 2024S-T3 BDM 3035 - Big Data Capstone Project\\x FINAL PROJECT\\_VSCode Workspace\\02-downloaded-youtube-audios\\Sample Order Taking  Customer Support Philippines.mp3\n",
      "New Filename: c:\\Users\\haldo\\Documents\\Dropbox\\2023 to 2025 - Lambton College\\T3. TERM 03, MAY-AGO 2024\\01, Tue01, 2024S-T3 BDM 3035 - Big Data Capstone Project\\x FINAL PROJECT\\_VSCode Workspace\\02-downloaded-youtube-audios\\AUDIO_20240721_171054.mp3\n",
      "CPU times: total: 125 ms\n",
      "Wall time: 1.45 s\n"
     ]
    }
   ],
   "source": [
    "%%time\n",
    "\n",
    "from pytubefix import YouTube\n",
    "from pytubefix.cli import on_progress\n",
    "import os\n",
    "\n",
    "output_path=\".\\\\02-downloaded-youtube-audios\"\n",
    "yt = YouTube('https://www.youtube.com/watch?v=hpZFJctBUHQ', on_progress_callback = on_progress)\n",
    "print(\"Youtube:\", yt.title)\n",
    "\n",
    "remove_contents(output_path)\n",
    " \n",
    "video = yt.streams.get_audio_only()\n",
    "out_file_path = video.download(output_path=output_path, mp3=True) \n",
    "print(\"Out Filename:\", out_file_path)\n",
    "\n",
    "out_file_folder, out_file_name, out_file_extension = split_path(out_file_path)\n",
    "new_file_name = out_file_folder + \"\\\\\" + generate_provisional_name(\"AUDIO\") + out_file_extension \n",
    "os.rename(out_file_path, new_file_name)\n",
    "print(\"New Filename:\", new_file_name)"
   ]
  },
  {
   "cell_type": "code",
   "execution_count": 34,
   "metadata": {},
   "outputs": [],
   "source": [
    "import vlc\n",
    "import time\n",
    "\n",
    "player = vlc.MediaPlayer(new_file_name)\n",
    "player.play()\n",
    "time.sleep(5)\n",
    "player.stop()"
   ]
  },
  {
   "cell_type": "code",
   "execution_count": null,
   "metadata": {},
   "outputs": [],
   "source": []
  }
 ],
 "metadata": {
  "kernelspec": {
   "display_name": "Python 3",
   "language": "python",
   "name": "python3"
  },
  "language_info": {
   "codemirror_mode": {
    "name": "ipython",
    "version": 3
   },
   "file_extension": ".py",
   "mimetype": "text/x-python",
   "name": "python",
   "nbconvert_exporter": "python",
   "pygments_lexer": "ipython3",
   "version": "3.11.6"
  }
 },
 "nbformat": 4,
 "nbformat_minor": 2
}
