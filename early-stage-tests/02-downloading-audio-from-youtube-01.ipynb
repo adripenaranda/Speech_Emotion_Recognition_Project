{
 "cells": [
  {
   "cell_type": "markdown",
   "metadata": {},
   "source": [
    "https://stackoverflow.com/questions/27473526/download-only-audio-from-youtube-video-using-youtube-dl-in-python-\n",
    "\n",
    "https://stackoverflow.com/questions/20021457/playing-mp3-song-on-python"
   ]
  },
  {
   "cell_type": "code",
   "execution_count": null,
   "metadata": {},
   "outputs": [],
   "source": [
    "#pip install pytube python-vlc"
   ]
  },
  {
   "cell_type": "code",
   "execution_count": null,
   "metadata": {},
   "outputs": [],
   "source": [
    "import os\n",
    "import shutil\n",
    "\n",
    "def remove_contents(folder_path):\n",
    "    for filename in os.listdir(folder_path):\n",
    "        file_path = os.path.join(folder_path, filename)\n",
    "        try:\n",
    "            if os.path.isfile(file_path) or os.path.islink(file_path):\n",
    "                os.remove(file_path)\n",
    "            elif os.path.isdir(file_path):\n",
    "                shutil.rmtree(file_path)\n",
    "        except Exception as e:\n",
    "            print(f'Failed to delete {file_path}. Reason: {e}')"
   ]
  },
  {
   "cell_type": "code",
   "execution_count": null,
   "metadata": {},
   "outputs": [],
   "source": [
    "%%time\n",
    "\n",
    "from pytube import YouTube\n",
    "import os\n",
    "\n",
    "output_path=\".\\\\02-downloaded-youtube-audios\"\n",
    "yt = YouTube('https://www.youtube.com/watch?v=hpZFJctBUHQ')\n",
    "\n",
    "remove_contents(output_path)\n",
    "\n",
    "video = yt.streams.filter(only_audio=True).first()\n",
    "\n",
    "out_file = video.download(output_path=output_path)\n",
    "\n",
    "base, ext = os.path.splitext(out_file)\n",
    "new_file = base + '.mp3'\n",
    "os.rename(out_file, new_file)"
   ]
  },
  {
   "cell_type": "code",
   "execution_count": null,
   "metadata": {},
   "outputs": [],
   "source": [
    "import vlc\n",
    "import time\n",
    "\n",
    "player = vlc.MediaPlayer(new_file)\n",
    "player.play()\n",
    "time.sleep(5)\n",
    "player.stop()"
   ]
  },
  {
   "cell_type": "code",
   "execution_count": null,
   "metadata": {},
   "outputs": [],
   "source": []
  }
 ],
 "metadata": {
  "kernelspec": {
   "display_name": "Python 3",
   "language": "python",
   "name": "python3"
  },
  "language_info": {
   "codemirror_mode": {
    "name": "ipython",
    "version": 3
   },
   "file_extension": ".py",
   "mimetype": "text/x-python",
   "name": "python",
   "nbconvert_exporter": "python",
   "pygments_lexer": "ipython3",
   "version": "3.11.6"
  }
 },
 "nbformat": 4,
 "nbformat_minor": 2
}
